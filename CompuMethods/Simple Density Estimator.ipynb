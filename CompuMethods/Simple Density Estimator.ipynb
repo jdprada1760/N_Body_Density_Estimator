{
 "metadata": {
  "name": "",
  "signature": "sha256:5b962702650b79e122ee102830981fcc175f9a31aaf6e0ef24651baaf52c1b25"
 },
 "nbformat": 3,
 "nbformat_minor": 0,
 "worksheets": [
  {
   "cells": [
    {
     "cell_type": "code",
     "collapsed": false,
     "input": [
      "%pylab inline\n",
      "from copy import deepcopy\n",
      "import time"
     ],
     "language": "python",
     "metadata": {},
     "outputs": [
      {
       "output_type": "stream",
       "stream": "stdout",
       "text": [
        "Populating the interactive namespace from numpy and matplotlib\n"
       ]
      }
     ],
     "prompt_number": 1
    },
    {
     "cell_type": "code",
     "collapsed": false,
     "input": [
      "# Crea el array de tetraedros: n1-n2-n3-n4 \n",
      "# El estado final de la simulaci\u00f3n (ordenado respecto a los N)\n",
      "def mk_Thdrons(L, numPart):\n",
      "    thdrons = []\n",
      "    # Crea una lista de tetraedros\n",
      "    for i in range(numPart/(L**3)):\n",
      "        n0 = i*(L**3)\n",
      "        for x in range(L-1):\n",
      "            for y in range(L-1):\n",
      "                for z in range(L-1):\n",
      "                    # El punto que definir\u00e1 4 tetraedros\n",
      "                    point = n0 + getN(x,y,z,L)\n",
      "                    # Los tetraedros\n",
      "                    thdrons.append([point,point+L,point+L+(L**2),point+(L**2)+L+1])\n",
      "                    thdrons.append([point,point+L,point+L+   1  ,point+(L**2)+L+1])\n",
      "                    thdrons.append([point,point+(L**2),point+(L**2)+L,point+(L**2)+L+1])\n",
      "                    thdrons.append([point,point+(L**2),point+(L**2)+1,point+(L**2)+L+1])\n",
      "                    thdrons.append([point,point+1,point+1+(L**2),point+(L**2)+L+1])\n",
      "                    thdrons.append([point,point+1,point+1+   L  ,point+(L**2)+L+1])\n",
      "    thdrons = np.array(thdrons) \n",
      "    return thdrons\n",
      "\n",
      "# Saaca las matrices, vectores de referencia y volumenes de los tetraedros\n",
      "# fstate : El estado final de la simulacion ordenada por N\n",
      "def mk_Matrices(fstate, thdrons):\n",
      "    # Listas vacias de lo que se va a crear\n",
      "    matrices = []\n",
      "    volumes = []\n",
      "    refVecs = []\n",
      "    tam = len(thdrons)\n",
      "    for n in range(tam):\n",
      "        if((n*100.0/tam)%10 == 0):\n",
      "            print n*100/tam\n",
      "        th = thdrons[n]\n",
      "        vec = fstate[th[0]]\n",
      "        a = fstate[th[3]]\n",
      "        b = fstate[th[2]]\n",
      "        c = fstate[th[1]]\n",
      "        # El volumen de cada tetraedro\n",
      "        v = np.dot(np.cross(a-vec,b-vec),c-vec)/2.0\n",
      "        if v != 0:\n",
      "            # La matriz de cambio de base de cada tetraedro\n",
      "            matrices.append(np.linalg.inv(np.array([a-vec,b-vec,c-vec]).T))\n",
      "            volumes.append(v)\n",
      "            refVecs.append(vec)\n",
      "            \n",
      "    matrices = np.array(matrices)\n",
      "    volumes = np.array(volumes)\n",
      "    refVecs = np.array(refVecs)\n",
      "            \n",
      "    return refVecs,matrices,volumes\n",
      "\n",
      "            \n",
      "# Obtiene el ID de una part\u00edcula dada su posici\u00f3n\n",
      "def getN(x,y,z,L):\n",
      "    return x*(L**2) + y*L + z"
     ],
     "language": "python",
     "metadata": {},
     "outputs": [],
     "prompt_number": 19
    },
    {
     "cell_type": "code",
     "collapsed": false,
     "input": [
      "# M\u00e9todo para calcular la densidad en la lista de posiciones dadas\n",
      "# pos: El arreglo de posiciones donde se quiere conocer la densidad\n",
      "# thdrons: El conjunto de tetraedros\n",
      "# masses: El conjunto de masas de los correspondientes tetraedros\n",
      "\n",
      "def getDensity(pos, thdrons):\n",
      "    density = np.zeros(len(pos))\n",
      "    tam = len(pos)\n",
      "    refVecs = thdrons[0]\n",
      "    matrices = thdrons[1]\n",
      "    volumes = thdrons[2]\n",
      "    for n in range(tam):\n",
      "        if((n*100.0/tam)%10 == 0):\n",
      "                print n*100/tam\n",
      "        tam2 = len(volumes)\n",
      "        for k in range(tam2):\n",
      "            if inside(matrices[k], pos[n]-refVecs[k]):\n",
      "                density[n] += 10000.0/np.abs(volumes[k])        \n",
      "    return density\n",
      "\n",
      "def inside(m,d):\n",
      "    # El vector en la nueva base\n",
      "    dp = np.dot(m,d)\n",
      "    return (dp[0] >= 0) and (dp[1] >= 0) and (dp[2] >= 0) and (dp[0]+dp[1]+dp[2] <= 1)"
     ],
     "language": "python",
     "metadata": {},
     "outputs": [],
     "prompt_number": 12
    },
    {
     "cell_type": "heading",
     "level": 1,
     "metadata": {},
     "source": [
      "Prueba num\u00e9rica del m\u00e9todo"
     ]
    },
    {
     "cell_type": "code",
     "collapsed": false,
     "input": [
      "# Obtiene el estado inicial de la simulaci\u00f3n para analizarla\n",
      "start_time = time.time()\n",
      "fstate = loadtxt(\"ics.data\")\n",
      "print(time.time() - start_time)"
     ],
     "language": "python",
     "metadata": {},
     "outputs": [
      {
       "output_type": "stream",
       "stream": "stdout",
       "text": [
        "9.85693407059\n"
       ]
      }
     ],
     "prompt_number": 24
    },
    {
     "cell_type": "code",
     "collapsed": false,
     "input": [
      "# Obtiene solo las posiciones\n",
      "fstate = fstate.T[2:5].T"
     ],
     "language": "python",
     "metadata": {},
     "outputs": [],
     "prompt_number": 25
    },
    {
     "cell_type": "code",
     "collapsed": false,
     "input": [
      "# Crea los tetraedros\n",
      "start_time = time.time()\n",
      "thdrons = mk_Thdrons(16, 128**3)\n",
      "print(time.time() - start_time)\n"
     ],
     "language": "python",
     "metadata": {},
     "outputs": [
      {
       "output_type": "stream",
       "stream": "stdout",
       "text": [
        "17.403124094\n"
       ]
      }
     ],
     "prompt_number": 26
    },
    {
     "cell_type": "code",
     "collapsed": false,
     "input": [
      "# Ordena los tetraedros en un arbol\n",
      "start_time = time.time()\n",
      "thdrons = mk_Matrices(fstate, thdrons)\n",
      "print(time.time() - start_time)\n"
     ],
     "language": "python",
     "metadata": {},
     "outputs": [
      {
       "output_type": "stream",
       "stream": "stdout",
       "text": [
        "0\n",
        "10"
       ]
      },
      {
       "output_type": "stream",
       "stream": "stdout",
       "text": [
        "\n",
        "20"
       ]
      },
      {
       "output_type": "stream",
       "stream": "stdout",
       "text": [
        "\n",
        "30"
       ]
      },
      {
       "output_type": "stream",
       "stream": "stdout",
       "text": [
        "\n",
        "40"
       ]
      },
      {
       "output_type": "stream",
       "stream": "stdout",
       "text": [
        "\n",
        "50"
       ]
      },
      {
       "output_type": "stream",
       "stream": "stdout",
       "text": [
        "\n",
        "60"
       ]
      },
      {
       "output_type": "stream",
       "stream": "stdout",
       "text": [
        "\n",
        "70"
       ]
      },
      {
       "output_type": "stream",
       "stream": "stdout",
       "text": [
        "\n",
        "80"
       ]
      },
      {
       "output_type": "stream",
       "stream": "stdout",
       "text": [
        "\n",
        "90"
       ]
      },
      {
       "output_type": "stream",
       "stream": "stdout",
       "text": [
        "\n",
        "310.60571909"
       ]
      },
      {
       "output_type": "stream",
       "stream": "stdout",
       "text": [
        "\n"
       ]
      }
     ],
     "prompt_number": 27
    },
    {
     "cell_type": "code",
     "collapsed": false,
     "input": [
      "# Calcula la densidad en un punto\n",
      "start_time = time.time()\n",
      "density = getDensity([[45786,100,123456]],thdrons)\n",
      "print(time.time() - start_time)\n",
      "print density"
     ],
     "language": "python",
     "metadata": {},
     "outputs": [
      {
       "output_type": "stream",
       "stream": "stdout",
       "text": [
        "0\n",
        "45.9595189095"
       ]
      },
      {
       "output_type": "stream",
       "stream": "stdout",
       "text": [
        "\n",
        "[  9.96696891e-08]\n"
       ]
      }
     ],
     "prompt_number": 29
    },
    {
     "cell_type": "code",
     "collapsed": false,
     "input": [],
     "language": "python",
     "metadata": {},
     "outputs": []
    },
    {
     "cell_type": "code",
     "collapsed": false,
     "input": [
      "thdrons[2]"
     ],
     "language": "python",
     "metadata": {},
     "outputs": [
      {
       "metadata": {},
       "output_type": "pyout",
       "prompt_number": 10,
       "text": [
        "array([  0, 256, 272, 273])"
       ]
      }
     ],
     "prompt_number": 10
    },
    {
     "cell_type": "code",
     "collapsed": false,
     "input": [],
     "language": "python",
     "metadata": {},
     "outputs": []
    }
   ],
   "metadata": {}
  }
 ]
}