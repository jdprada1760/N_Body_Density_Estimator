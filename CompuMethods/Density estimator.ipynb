{
 "metadata": {
  "name": "",
  "signature": "sha256:ae6e4f51e0c6084e07f161eaed025c451ce1d4a81f76f463a01d1c596fcbd145"
 },
 "nbformat": 3,
 "nbformat_minor": 0,
 "worksheets": [
  {
   "cells": [
    {
     "cell_type": "code",
     "collapsed": false,
     "input": [
      "%pylab inline"
     ],
     "language": "python",
     "metadata": {},
     "outputs": [
      {
       "output_type": "stream",
       "stream": "stdout",
       "text": [
        "Populating the interactive namespace from numpy and matplotlib\n"
       ]
      },
      {
       "output_type": "stream",
       "stream": "stderr",
       "text": [
        "WARNING: pylab import has clobbered these variables: ['matrix']\n",
        "`%matplotlib` prevents importing * from pylab and numpy\n"
       ]
      }
     ],
     "prompt_number": 8
    },
    {
     "cell_type": "code",
     "collapsed": false,
     "input": [
      "# Crea el array de tetraedros: n1-n2-n3-n4 y de masas\n",
      "\n",
      "def mk_Thdrons(L, numPart, mass):\n",
      "    # Guarda los puntos que conforman los tetraedros\n",
      "    thdrons = []\n",
      "    # Guarda el numero de veces que aparece cada punto en un tetraedro\n",
      "    parts = np.zeros(numPart+1)\n",
      "    for i in range(numPart/(L**3)):\n",
      "        n0 = i*(L**3)\n",
      "        for x in range(L-1):\n",
      "            for y in range(L-1):\n",
      "                for z in range(L-1):\n",
      "                    # El punto que definir\u00e1 4 tetraedros\n",
      "                    point = n0 + getN(x,y,z,L)\n",
      "                    # Los tetraedros\n",
      "                    thdrons.append([point,point+L,point+L+(L**2),point+(L**2)+L+1])\n",
      "                    thdrons.append([point,point+L,point+L+   1  ,point+(L**2)+L+1])\n",
      "                    thdrons.append([point,point+(L**2),point+(L**2)+L,point+(L**2)+L+1])\n",
      "                    thdrons.append([point,point+(L**2),point+(L**2)+1,point+(L**2)+L+1])\n",
      "                    thdrons.append([point,point+1,point+1+(L**2),point+(L**2)+L+1])\n",
      "                    thdrons.append([point,point+1,point+1+   L  ,point+(L**2)+L+1])\n",
      "                    # Cuenta las participaciones\n",
      "                    parts[point] += 6\n",
      "                    parts[point+(L**2)+L+1] += 6\n",
      "                    parts[point + 1] += 2\n",
      "                    parts[point + L] += 2\n",
      "                    parts[point + (L**2)] += 2\n",
      "                    parts[point + 1 + L] += 2\n",
      "                    parts[point + 1 + (L**2)] += 2\n",
      "                    parts[point + L + (L**2)] += 2\n",
      "        \n",
      "    thdrons = np.array(thdrons)    \n",
      "    masses = np.zeros(len(thdrons))\n",
      "    # Calcula las masas de cada tetraedro\n",
      "    for j in range(len(thdrons)):\n",
      "        for i in range(4):\n",
      "            masses[j] += mass/parts[thdrons[j][i]]\n",
      "            \n",
      "    return thdrons,masses\n",
      " \n",
      "# Obtiene el ID de una part\u00edcula dada su posici\u00f3n\n",
      "\n",
      "def getN(x,y,z,L):\n",
      "    return x*(L**2) + y*L + z"
     ],
     "language": "python",
     "metadata": {},
     "outputs": [],
     "prompt_number": 9
    },
    {
     "cell_type": "code",
     "collapsed": false,
     "input": [
      "# M\u00e9todo para calcular la densidad en la lista de posiciones dadas\n",
      "# pos: El arreglo de posiciones donde se quiere conocer la densidad\n",
      "# thdrons: El conjunto de tetraedros\n",
      "# masses: El conjunto de masas de los correspondientes tetraedros\n",
      "# particles: El conjunto de posiciones de part\u00edculas ordenadas por Id\n",
      "\n",
      "def getDensity(pos, thdrons, masses, particles):\n",
      "    density = np.zeros(len(pos))\n",
      "    for i in range(len(pos)):\n",
      "        for j in range(len(thdrons)):\n",
      "            # Si esta adentro cuenta su contribuci\u00f3n de densidad\n",
      "            n1 = particles[thdrons[j][0]]\n",
      "            n2 = particles[thdrons[j][1]]\n",
      "            n3 = particles[thdrons[j][2]]\n",
      "            n4 = particles[thdrons[j][3]]\n",
      "            if isIn(n1,n2,n3,n4, pos[i]):\n",
      "                density[i] += masses[j]/tetraVol(n1,n2,n3,n4)\n",
      "                \n",
      "    return density\n",
      "\n",
      "# Retorna el volumen de un tetraedro determinado por los vectores a,b dados\n",
      "\n",
      "def tetraVol(n1,n2,n3,n4):\n",
      "    # Define los vectores que forman el tetraedro\n",
      "    a = n2-n1\n",
      "    b = n3-n1\n",
      "    c = n4-n1\n",
      "    return np.linalg.norm(np.dot(np.cross(a,b),c))/2\n",
      "\n",
      "# Retorna verdadero si el punto dado d pertenece o no al tetraedro a,b dado (retorna falso de lo contrario)\n",
      "\n",
      "def isIn(n1,n2,n3,n4,d):\n",
      "    # Define los vectores que forman el tetraedro\n",
      "    a = n2-n1\n",
      "    b = n3-n1\n",
      "    c = n4-n1\n",
      "    # Otros lados del tetraedro y la referencia al punto d\n",
      "    e = b - a\n",
      "    f = c - a\n",
      "    dp = d-a\n",
      "    # Variables que guardan el signo de las componentes \n",
      "    l1 = np.sign(np.dot(d,np.cross(a,b)))\n",
      "    l2 = np.sign(np.dot(d,np.cross(b,c)))\n",
      "    l3 = np.sign(np.dot(d,np.cross(c,a)))\n",
      "    m1 = np.sign(np.dot(dp,np.cross(a,e)))\n",
      "    m2 = -np.sign(np.dot(dp,np.cross(e,f)))\n",
      "    m3 = np.sign(np.dot(dp,np.cross(f,a)))\n",
      "    if (m1-m2 == 0) and (m2-m3 == 0) and (l1-l2 == 0) and (l2-l3 == 0):\n",
      "        return True\n",
      "    else:\n",
      "        return False"
     ],
     "language": "python",
     "metadata": {},
     "outputs": [],
     "prompt_number": 15
    },
    {
     "cell_type": "heading",
     "level": 1,
     "metadata": {},
     "source": [
      "Prueba num\u00e9rica del m\u00e9todo"
     ]
    },
    {
     "cell_type": "code",
     "collapsed": false,
     "input": [
      "# Crea puntos aleatorios\n",
      "n = 10\n",
      "points = np.random.random((n**3,3))\n",
      "print shape(points)"
     ],
     "language": "python",
     "metadata": {},
     "outputs": [
      {
       "output_type": "stream",
       "stream": "stdout",
       "text": [
        "(1000, 3)\n"
       ]
      }
     ],
     "prompt_number": 11
    },
    {
     "cell_type": "code",
     "collapsed": false,
     "input": [
      "# Crea los tetraedros en orden\n",
      "import time\n",
      "start_time = time.time()\n",
      "result = mk_Thdrons(n, len(points), 1)\n",
      "print(time.time() - start_time)\n"
     ],
     "language": "python",
     "metadata": {},
     "outputs": [
      {
       "output_type": "stream",
       "stream": "stdout",
       "text": [
        "0.083920955658\n"
       ]
      }
     ],
     "prompt_number": 12
    },
    {
     "cell_type": "code",
     "collapsed": false,
     "input": [
      "print result[0]"
     ],
     "language": "python",
     "metadata": {},
     "outputs": [
      {
       "output_type": "stream",
       "stream": "stdout",
       "text": [
        "[[  0  10 110 111]\n",
        " [  0  10  11 111]\n",
        " [  0 100 110 111]\n",
        " ..., \n",
        " [888 988 989 999]\n",
        " [888 889 989 999]\n",
        " [888 889 899 999]]\n"
       ]
      }
     ],
     "prompt_number": 13
    },
    {
     "cell_type": "code",
     "collapsed": false,
     "input": [
      "# Calcular las densidades en puntos uniformemente distribuidos\n",
      "x = linspace(0,1,1)\n",
      "y = linspace(0,1,1)\n",
      "z = np.random.random()\n",
      "matrix = []\n",
      "for i in range(1):\n",
      "    fila = []\n",
      "    for j in range(1):\n",
      "        fila.append(np.array([x[i],y[j],z]))\n",
      "    matrix.append(np.array(fila))\n",
      "matrix = np.array(matrix)\n",
      "    "
     ],
     "language": "python",
     "metadata": {},
     "outputs": [],
     "prompt_number": 14
    },
    {
     "cell_type": "code",
     "collapsed": false,
     "input": [
      "# Calcula las densidades\n",
      "start_time = time.time()\n",
      "im = getDensity(matrix[0], result[0], result[1], points)\n",
      "print(time.time() - start_time)"
     ],
     "language": "python",
     "metadata": {},
     "outputs": [
      {
       "output_type": "stream",
       "stream": "stdout",
       "text": [
        "0.548588037491\n"
       ]
      }
     ],
     "prompt_number": 16
    },
    {
     "cell_type": "code",
     "collapsed": false,
     "input": [],
     "language": "python",
     "metadata": {},
     "outputs": []
    },
    {
     "cell_type": "code",
     "collapsed": false,
     "input": [],
     "language": "python",
     "metadata": {},
     "outputs": []
    }
   ],
   "metadata": {}
  }
 ]
}