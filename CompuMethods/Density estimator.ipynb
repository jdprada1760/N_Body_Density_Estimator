{
 "metadata": {
  "name": "",
  "signature": "sha256:d0686cea0dcb9238f70f18ac4b34d289d4f85cd5e2aaa780dced57deac63cef1"
 },
 "nbformat": 3,
 "nbformat_minor": 0,
 "worksheets": [
  {
   "cells": [
    {
     "cell_type": "code",
     "collapsed": false,
     "input": [
      "%pylab inline\n",
      "from copy import deepcopy"
     ],
     "language": "python",
     "metadata": {},
     "outputs": [
      {
       "output_type": "stream",
       "stream": "stdout",
       "text": [
        "Populating the interactive namespace from numpy and matplotlib\n"
       ]
      }
     ],
     "prompt_number": 1
    },
    {
     "cell_type": "code",
     "collapsed": false,
     "input": [
      "# Clase nodo para el arbol de tetraedros\n",
      "# Longitud de la simulacion l = \n",
      "defa = 1600000\n",
      "class Nodo:\n",
      "    'Modela los nodos del arbol de tetraedros'\n",
      "    # Guarda las matrices de los tetraedros\n",
      "    # matrices = []\n",
      "    # Guarda los volumenes\n",
      "    # volumes = []\n",
      "    # Guarda el intervalo\n",
      "    # r = np.array([0,defa])\n",
      "    # Guarda los hijos: izquierdo - derecho en orden\n",
      "    # hijos = [None, None]\n",
      "    # Constructor de la clase\n",
      "    # Guarda el vector de referencia\n",
      "    def __init__(self):\n",
      "        # Rango del espacio\n",
      "        self.r = np.array([0,defa])\n",
      "        self.matrices = []\n",
      "        self.volumes = []\n",
      "        self.hijos = [None,None]\n",
      "        self.vec = None\n",
      "        self.mass = 1/6\n",
      "    # Borra la clase\n",
      "    def __del__(self):\n",
      "        class_name = self.__class__.__name__\n",
      "        print class_name, \"destroyed\" \n",
      "    # A\u00f1ade un hijo izquierdo\n",
      "    def add_Left(self,left):\n",
      "        self.hijos[0] = left\n",
      "    # A\u00f1ade un hijo derecho\n",
      "    def add_Right(self,right):\n",
      "        self.hijos[1] = right\n",
      "    # A\u00f1adir tetraedro\n",
      "    def add_Tetrahedron(self, matrix=None, volume=None, vec=None):\n",
      "        self.matrices.append(matrix)\n",
      "        self.volumes.append(volume)\n",
      "        self.vec.append(vec)\n",
      "    # Cambia el intervalo\n",
      "    def change_r(self,ini,fin):\n",
      "        self.r[0] = ini\n",
      "        self.r[1] = fin\n",
      "    # Retorna el intervalo\n",
      "    def get_vec(self):\n",
      "        return self.vec\n",
      "    # Retorna el hijo izquierdo\n",
      "    def get_Left(self):\n",
      "        return self.hijos[1]\n",
      "    # Retorna el hijo derecho\n",
      "    def get_Right(self):\n",
      "        return self.hijos[0]\n",
      "    # Retorna el array de volumenes y de matrices\n",
      "    def get_Tetrahedrons(self):\n",
      "        return self.matrices,self.volumes,self.vec\n",
      "    # Define si un punto est\u00e1 en el espacio definido \n",
      "    def isIn(self, d):\n",
      "        if (self.r[0] <= d) and (self.r[1] >= d) :\n",
      "            return True\n",
      "        else:\n",
      "            return False  \n",
      "    # Da el orden del arbol\n",
      "    def order(self):\n",
      "        if(self.hijos[0] is None):\n",
      "            return 1\n",
      "        else:\n",
      "            return 1+ self.hijos[0].order()\n",
      "    # Retorna el intervalo del esapcio \n",
      "    def get_r(self):\n",
      "        return self.r\n",
      "    # Retorna el intervalo del esapcio \n",
      "    def get_m(self):\n",
      "        return self.m\n",
      "    # Retorna el n\u00famero total de tetraedros\n",
      "    def numTetrahedrons(self):\n",
      "        if self.hijos[0] is None :\n",
      "            if self.hijos[1] is None :\n",
      "                return len(self.matrices)\n",
      "            else:\n",
      "                return len(self.matrices) + self.hijos[1].numTetrahedrons()\n",
      "        else:\n",
      "            if self.hijos[1] is None :\n",
      "                return len(self.matrices) + self.hijos[0].numTetrahedrons()\n",
      "            else:\n",
      "                return len(self.matrices) + self.hijos[1].numTetrahedrons() + self.hijos[0].numTetrahedrons()        \n",
      "\n",
      "    "
     ],
     "language": "python",
     "metadata": {},
     "outputs": [],
     "prompt_number": 98
    },
    {
     "cell_type": "code",
     "collapsed": false,
     "input": [
      "# Crea un arbol binario de orden n\n",
      "def binary_Tree(n, subtree = None):\n",
      "    if n == 0:\n",
      "        return subtree\n",
      "    n = n-1\n",
      "    if subtree is None:\n",
      "        return binary_Tree(n,Nodo())\n",
      "    else:\n",
      "        subtree2 = deepcopy(subtree)\n",
      "        subtree.change_r(0,defa/2)\n",
      "        subtree2.change_r(defa/2,defa)\n",
      "        ntree = Nodo()\n",
      "        ntree.add_Left(subtree)\n",
      "        ntree.add_Right(subtree2)\n",
      "        return binary_Tree(n,ntree)\n",
      "tree = binary_Tree(3)"
     ],
     "language": "python",
     "metadata": {},
     "outputs": [
      {
       "output_type": "stream",
       "stream": "stdout",
       "text": [
        "Nodo destroyed\n",
        "Nodo destroyed\n",
        "Nodo destroyed\n",
        "Nodo destroyed\n",
        "Nodo destroyed\n",
        "Nodo destroyed\n",
        "Nodo destroyed\n"
       ]
      }
     ],
     "prompt_number": 86
    },
    {
     "cell_type": "code",
     "collapsed": false,
     "input": [
      "print tree.numTetrahedrons()\n",
      "print tree.__del__()\n",
      "print tree"
     ],
     "language": "python",
     "metadata": {},
     "outputs": [
      {
       "output_type": "stream",
       "stream": "stdout",
       "text": [
        "0\n",
        "Nodo destroyed\n",
        "None\n",
        "<__main__.Nodo instance at 0x7f513494a200>\n"
       ]
      }
     ],
     "prompt_number": 90
    },
    {
     "cell_type": "code",
     "collapsed": false,
     "input": [
      "# Crea el array de tetraedros: n1-n2-n3-n4 y de masas\n",
      "# El estado final de la simulaci\u00f3n (ordenado respecto a los N)\n",
      "# fstate = \n",
      "def mk_Thdrons(L, numPart):\n",
      "    # Crea el arbol de tetraedros: x -> y -> z\n",
      "    arbol = binary_Tree(4)\n",
      "    # Crea una lista de tetraedros\n",
      "    for i in range(numPart/(L**3)):\n",
      "        n0 = i*(L**3)\n",
      "        for x in range(L-1):\n",
      "            for y in range(L-1):\n",
      "                for z in range(L-1):\n",
      "                    # El punto que definir\u00e1 4 tetraedros\n",
      "                    point = n0 + getN(x,y,z,L)\n",
      "                    # Los tetraedros\n",
      "                    thdrons.append([point,point+L,point+L+(L**2),point+(L**2)+L+1])\n",
      "                    thdrons.append([point,point+L,point+L+   1  ,point+(L**2)+L+1])\n",
      "                    thdrons.append([point,point+(L**2),point+(L**2)+L,point+(L**2)+L+1])\n",
      "                    thdrons.append([point,point+(L**2),point+(L**2)+1,point+(L**2)+L+1])\n",
      "                    thdrons.append([point,point+1,point+1+(L**2),point+(L**2)+L+1])\n",
      "                    thdrons.append([point,point+1,point+1+   L  ,point+(L**2)+L+1])\n",
      "    thdrons = np.array(thdrons)    \n",
      "    # Clasifica los tetraedros en el arbol\n",
      "    for i in range(n):\n",
      "        th = thdrons[n]\n",
      "        vec = fstate[th[0]]\n",
      "        a = fstate[th[3]] - vec\n",
      "        b = fstate[th[2]] - vec\n",
      "        c = fstate[th[1]] - vec\n",
      "        # La matriz de cambio de base de cada tetraedro\n",
      "        m = np.linalg.inv(np.array([a,b,c]).T)\n",
      "        # El volumen de cada tetraedro\n",
      "        v = np.dot(np.cross(a,b),c)/2\n",
      "        # Ramas de los arboles (Para los intervalos)\n",
      "        arbol_i = arbol.get_Left()\n",
      "        arbol_ii = arbol_i.get_Left()\n",
      "        arbol_iii = arbol_ii.get_Left()\n",
      "        arbol_d = arbol.get_Right()\n",
      "        arbol_dd = arbol_d.get_Right()\n",
      "        arbol_ddd = arbol_dd.get_Right()\n",
      "        # True si esta en la parte izquierda x\n",
      "        ix = arbol_i.isIn(fstate[th[0]][0]) and arbol_i.isIn(fstate[th[1]][0]) and arbol_i.isIn(fstate[th[2]][0])  and arbol_i.isIn(fstate[th[3]][0])\n",
      "        # True si esta en la parte izquierda y\n",
      "        iy = arbol_ii.isIn(fstate[th[0]][1]) and arbol_ii.isIn(fstate[th[1]][1]) and arbol_ii.isIn(fstate[th[2]][1])  and arbol_ii.isIn(fstate[th[3]][1])\n",
      "        # True si esta en la parte izquierda z\n",
      "        iz = arbol_iii.isIn(fstate[th[0]][2]) and arbol_iii.isIn(fstate[th[1]][2]) and arbol_iii.isIn(fstate[th[2]][2])  and arbol_iii.isIn(fstate[th[3]][2])\n",
      "        # True si esta en la parte derecha x\n",
      "        dx = arbol_d.isIn(fstate[th[0]][0]) and arbol_d.isIn(fstate[th[1]][0]) and arbol_d.isIn(fstate[th[2]][0])  and arbol_d.isIn(fstate[th[3]][0])\n",
      "        # True si esta en la parte derecha y\n",
      "        dy = arbol_dd.isIn(fstate[th[0]][1]) and arbol_dd.isIn(fstate[th[1]][1]) and arbol_dd.isIn(fstate[th[2]][1])  and arbol_dd.isIn(fstate[th[3]][1])\n",
      "        # True si esta en la parte derecha z\n",
      "        dz = arbol_ddd.isIn(fstate[th[0]][2]) and arbol_ddd.isIn(fstate[th[1]][2]) and arbol_ddd.isIn(fstate[th[2]][2])  and arbol_ddd.isIn(fstate[th[3]][2]) \n",
      "        # Clasifica los tetraedros\n",
      "        if ix:\n",
      "            # Se encuentra en la parte Izquierda x\n",
      "            if iy:\n",
      "                # Se encuentra en la parte Izquierda x Izquierda y\n",
      "                if iz:\n",
      "                    # Se encuentra en la parte Izquierda x Izquierda y Izquierda z\n",
      "                    arbol_iii.add_Tetrahedron(m,v,vec)\n",
      "                elif dz:\n",
      "                    # Se encuentra en la parte Izquierda x Izquierda y Derecha z\n",
      "                    arbol_ii.get_Right().add_Tetrahedron(m,v,vec)\n",
      "                else:\n",
      "                    # Se toma como si estuviera en el nodo ii\n",
      "                    arbol_ii.add_Tetrahedron(m,v,vec)\n",
      "            elif dy:\n",
      "                # Se encuentra en la parte Izquierda x Derecha y\n",
      "                if iz:\n",
      "                    # Se encuentra en la parte Izquierda x Derecha y Izquierda z\n",
      "                    arbol_i.get_Right().get_Left().add_Tetrahedron(m,v,vec)\n",
      "                elif dz:\n",
      "                    # Se encuentra en la parte Izquierda x Derecha y Derecha z\n",
      "                    arbol_i.get_Right().get_Right().add_Tetrahedron(m,v,vec)\n",
      "                else:\n",
      "                    # Se toma como si estuviera en el nodo id\n",
      "                    arbol_i.get_Right().add_Tetrahedron(m,v,vec)\n",
      "            else:\n",
      "                # Se toma como si estuviera en el nodo i\n",
      "                arbol_i.add_Tetrahedron(m,v,vec)\n",
      "        elif dx:\n",
      "            # Se encuentra en la parte Derecha x\n",
      "            if iy:\n",
      "                # Se encuentra en la parte Derecha x Izquierda y\n",
      "                if iz:\n",
      "                    # Se encuentra en la parte Derecha x Izquierda y Izquierda z\n",
      "                    arbol_d.get_Left().get_Left().add_Tetrahedron(m,v,vec)\n",
      "                elif dz:\n",
      "                    # Se encuentra en la parte Derecha x Izquierda y Derecha z\n",
      "                    arbol_d.get_Left().get_Right().add_Tetrahedron(m,v,vec)\n",
      "                else:\n",
      "                    # Se toma como si estuviera en el nodo di\n",
      "                    arbol_d.get_Left().add_Tetrahedron(m,v,vec)\n",
      "            elif dy:\n",
      "                # Se encuentra en la parte Derecha x Derecha y\n",
      "                if iz:\n",
      "                    # Se encuentra en la parte Derecha x Derecha y Izquierda z\n",
      "                    arbol_dd.get_Left().add_Tetrahedron(m,v,vec)\n",
      "                elif dz:\n",
      "                    # Se encuentra en la parte Derecha x Derecha y Derecha z\n",
      "                    arbol_ddd.add_Tetrahedron(m,v,vec)\n",
      "                else:\n",
      "                    # Se toma como si estuviera en el nodo dd\n",
      "                    arbol_dd.add_Tetrahedron(m,v,vec)\n",
      "            else:\n",
      "                # Se toma como si estuviera en el nodo d\n",
      "                arbol_d.add_Tetrahedron(m,v,vec)\n",
      "    return arbol\n",
      "            \n",
      "# Obtiene el ID de una part\u00edcula dada su posici\u00f3n\n",
      "def getN(x,y,z,L):\n",
      "    return x*(L**2) + y*L + z"
     ],
     "language": "python",
     "metadata": {},
     "outputs": [],
     "prompt_number": 96
    },
    {
     "cell_type": "code",
     "collapsed": false,
     "input": [
      "# M\u00e9todo para calcular la densidad en la lista de posiciones dadas\n",
      "# pos: El arreglo de posiciones donde se quiere conocer la densidad\n",
      "# thdrons: El conjunto de tetraedros\n",
      "# masses: El conjunto de masas de los correspondientes tetraedros\n",
      "\n",
      "def getDensity(pos, arbol, masses):\n",
      "    density = np.zeros(len(pos))\n",
      "    for i in range(len(pos)):\n",
      "        arbol_i = arbol.get_Left()\n",
      "        arbol_ii = arbol_i.get_Left()\n",
      "        arbol_iii = arbol_ii.get_Left()\n",
      "        arbol_d = arbol.get_Right()\n",
      "        arbol_dd = arbol_d.get_Right()\n",
      "        arbol_ddd = arbol_dd.get_Right()\n",
      "        # True si esta en la parte izquierda x\n",
      "        ix = arbol_i.isIn(pos[i][0])\n",
      "        # True si esta en la parte izquierda y\n",
      "        iy = arbol_ii.isIn(pos[i][1])\n",
      "        # True si esta en la parte izquierda z\n",
      "        iz = arbol_iii.isIn(pos[i][2])\n",
      "        # Arbol donde queda el punto\n",
      "        arbolito = None\n",
      "        # Clasifica los tetraedros\n",
      "        if ix:\n",
      "            # Se encuentra en la parte Izquierda x\n",
      "            if iy:\n",
      "                # Se encuentra en la parte Izquierda x Izquierda y\n",
      "                if iz:\n",
      "                    # Se encuentra en la parte Izquierda x Izquierda y Izquierda z\n",
      "                    arbolito = arbol_iii\n",
      "                else:\n",
      "                    # Se encuentra en la parte Izquierda x Izquierda y Derecha z\n",
      "                    arbolito = arbol_ii.get_Right()\n",
      "              \n",
      "            else:\n",
      "                # Se encuentra en la parte Izquierda x Derecha y\n",
      "                if iz:\n",
      "                    # Se encuentra en la parte Izquierda x Derecha y Izquierda z\n",
      "                    arbolito = arbol_i.get_Right().get_Left()\n",
      "                else:\n",
      "                    # Se encuentra en la parte Izquierda x Derecha y Derecha z\n",
      "                    arbolito = arbol_i.get_Right().get_Right()\n",
      "        else:\n",
      "            # Se encuentra en la parte Derecha x\n",
      "            if iy:\n",
      "                # Se encuentra en la parte Derecha x Izquierda y\n",
      "                if iz:\n",
      "                    # Se encuentra en la parte Derecha x Izquierda y Izquierda z\n",
      "                    arbolito = arbolito = arbol_d.get_Left().get_Left()\n",
      "                else:\n",
      "                    # Se encuentra en la parte Derecha x Izquierda y Derecha z\n",
      "                    arbolito = arbol_d.get_Left().get_Right()\n",
      "            else:\n",
      "                # Se encuentra en la parte Derecha x Derecha y\n",
      "                if iz:\n",
      "                    # Se encuentra en la parte Derecha x Derecha y Izquierda z\n",
      "                    arbolito = arbol_dd.get_Left()\n",
      "                else:\n",
      "                    # Se encuentra en la parte Derecha x Derecha y Derecha z\n",
      "                    arbolito = arbol_ddd\n",
      "                    \n",
      "        thdrons = arbolito.get_Tetrahedrons()\n",
      "        for k in range(len(thdrons[0])):\n",
      "            if inside(thdrons[0][k], pos[i]-thdrons[2][k]):\n",
      "                desnsity[i] += arbolito.get_m()/np.abs(thdrons[1][k])        \n",
      "            return density\n",
      "\n",
      "def inside(m,d):\n",
      "    # El vector en la nueva base\n",
      "    dp = np.dot(m,d)\n",
      "    if (dp[0] >= 0) and (dp[1] >= 0) and (dp[2] >= 0) and (dp[0]+dp[1]+dp[2] <= 1):\n",
      "        return True\n",
      "    else:\n",
      "        return False"
     ],
     "language": "python",
     "metadata": {},
     "outputs": [],
     "prompt_number": 15
    },
    {
     "cell_type": "heading",
     "level": 1,
     "metadata": {},
     "source": [
      "Prueba num\u00e9rica del m\u00e9todo"
     ]
    },
    {
     "cell_type": "code",
     "collapsed": false,
     "input": [
      "# Crea puntos aleatorios\n",
      "n = 10\n",
      "points = np.random.random((n**3,3))\n",
      "print shape(points)"
     ],
     "language": "python",
     "metadata": {},
     "outputs": [
      {
       "output_type": "stream",
       "stream": "stdout",
       "text": [
        "(1000, 3)\n"
       ]
      }
     ],
     "prompt_number": 11
    },
    {
     "cell_type": "code",
     "collapsed": false,
     "input": [
      "# Crea los tetraedros en orden\n",
      "import time\n",
      "start_time = time.time()\n",
      "result = mk_Thdrons(n, len(points), 1)\n",
      "print(time.time() - start_time)\n"
     ],
     "language": "python",
     "metadata": {},
     "outputs": [
      {
       "output_type": "stream",
       "stream": "stdout",
       "text": [
        "0.083920955658\n"
       ]
      }
     ],
     "prompt_number": 12
    },
    {
     "cell_type": "code",
     "collapsed": false,
     "input": [
      "print result[0]"
     ],
     "language": "python",
     "metadata": {},
     "outputs": [
      {
       "output_type": "stream",
       "stream": "stdout",
       "text": [
        "[[  0  10 110 111]\n",
        " [  0  10  11 111]\n",
        " [  0 100 110 111]\n",
        " ..., \n",
        " [888 988 989 999]\n",
        " [888 889 989 999]\n",
        " [888 889 899 999]]\n"
       ]
      }
     ],
     "prompt_number": 13
    },
    {
     "cell_type": "code",
     "collapsed": false,
     "input": [
      "# Calcular las densidades en puntos uniformemente distribuidos\n",
      "x = linspace(0,1,1)\n",
      "y = linspace(0,1,1)\n",
      "z = np.random.random()\n",
      "matrix = []\n",
      "for i in range(1):\n",
      "    fila = []\n",
      "    for j in range(1):\n",
      "        fila.append(np.array([x[i],y[j],z]))\n",
      "    matrix.append(np.array(fila))\n",
      "matrix = np.array(matrix)\n",
      "    "
     ],
     "language": "python",
     "metadata": {},
     "outputs": [],
     "prompt_number": 14
    },
    {
     "cell_type": "code",
     "collapsed": false,
     "input": [
      "# Calcula las densidades\n",
      "start_time = time.time()\n",
      "im = getDensity(matrix[0], result[0], result[1], points)\n",
      "print(time.time() - start_time)"
     ],
     "language": "python",
     "metadata": {},
     "outputs": [
      {
       "output_type": "stream",
       "stream": "stdout",
       "text": [
        "0.548588037491\n"
       ]
      }
     ],
     "prompt_number": 16
    },
    {
     "cell_type": "code",
     "collapsed": false,
     "input": [
      "tree is None"
     ],
     "language": "python",
     "metadata": {},
     "outputs": [
      {
       "metadata": {},
       "output_type": "pyout",
       "prompt_number": 37,
       "text": [
        "True"
       ]
      }
     ],
     "prompt_number": 37
    },
    {
     "cell_type": "code",
     "collapsed": false,
     "input": [],
     "language": "python",
     "metadata": {},
     "outputs": []
    }
   ],
   "metadata": {}
  }
 ]
}