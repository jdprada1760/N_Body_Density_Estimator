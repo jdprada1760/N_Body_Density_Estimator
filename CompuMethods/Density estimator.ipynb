{
 "metadata": {
  "name": "",
  "signature": "sha256:ac77a106069cc8a198162961c0337ae88de15e9eed8837b26d16d8be824c5826"
 },
 "nbformat": 3,
 "nbformat_minor": 0,
 "worksheets": [
  {
   "cells": [
    {
     "cell_type": "code",
     "collapsed": false,
     "input": [
      "%pylab inline\n",
      "from copy import deepcopy\n",
      "import time"
     ],
     "language": "python",
     "metadata": {},
     "outputs": [
      {
       "output_type": "stream",
       "stream": "stdout",
       "text": [
        "Populating the interactive namespace from numpy and matplotlib\n"
       ]
      }
     ],
     "prompt_number": 1
    },
    {
     "cell_type": "code",
     "collapsed": false,
     "input": [
      "# Clase nodo para el arbol de tetraedros\n",
      "# Longitud de la simulacion l = \n",
      "defa = 1600000\n",
      "class Nodo:\n",
      "    'Modela los nodos del arbol de tetraedros'\n",
      "    # Guarda las matrices de los tetraedros\n",
      "    # matrices = []\n",
      "    # Guarda los volumenes\n",
      "    # volumes = []\n",
      "    # Guarda el intervalo\n",
      "    # r = np.array([0,defa])\n",
      "    # Guarda los hijos: izquierdo - derecho en orden\n",
      "    # hijos = [None, None]\n",
      "    # Constructor de la clase\n",
      "    # Guarda el vector de referencia\n",
      "    def __init__(self):\n",
      "        # Rango del espacio\n",
      "        self.r = np.array([0,defa])\n",
      "        self.matrices = []\n",
      "        self.volumes = []\n",
      "        self.hijos = [None,None]\n",
      "        self.vec = None\n",
      "        self.mass = 1/6\n",
      "    # Borra la clase\n",
      "    def __del__(self):\n",
      "        class_name = self.__class__.__name__\n",
      "        #print class_name, \"destroyed\" \n",
      "    # A\u00f1ade un hijo izquierdo\n",
      "    def add_Left(self,left):\n",
      "        self.hijos[0] = left\n",
      "    # A\u00f1ade un hijo derecho\n",
      "    def add_Right(self,right):\n",
      "        self.hijos[1] = right\n",
      "    # A\u00f1adir tetraedro\n",
      "    def add_Tetrahedron(self, matrix=None, volume=None, vec=None):\n",
      "        self.matrices.append(matrix)\n",
      "        self.volumes.append(volume)\n",
      "        self.vec.append(vec)\n",
      "    # Cambia el intervalo\n",
      "    def change_r(self,ini,fin):\n",
      "        self.r[0] = ini\n",
      "        self.r[1] = fin\n",
      "    # Retorna el intervalo\n",
      "    def get_vec(self):\n",
      "        return self.vec\n",
      "    # Retorna el hijo izquierdo\n",
      "    def get_Left(self):\n",
      "        return self.hijos[0]\n",
      "    # Retorna el hijo derecho\n",
      "    def get_Right(self):\n",
      "        return self.hijos[1]\n",
      "    # Retorna el array de volumenes y de matrices\n",
      "    def get_Tetrahedrons(self):\n",
      "        return self.matrices,self.volumes,self.vec\n",
      "    # Define si un punto est\u00e1 en el espacio definido \n",
      "    def isIn(self, d):\n",
      "        if (self.r[0] <= d) and (self.r[1] >= d) :\n",
      "            return True\n",
      "        else:\n",
      "            return False  \n",
      "    # Da el orden del arbol\n",
      "    def order(self):\n",
      "        if(self.hijos[0] is None):\n",
      "            return 1\n",
      "        else:\n",
      "            return 1+ self.hijos[0].order()\n",
      "    # Retorna el intervalo del esapcio \n",
      "    def get_r(self):\n",
      "        return self.r\n",
      "    # Retorna el intervalo del esapcio \n",
      "    def get_m(self):\n",
      "        return self.m\n",
      "    # Retorna el n\u00famero total de tetraedros\n",
      "    def numTetrahedrons(self):\n",
      "        if self.hijos[0] is None :\n",
      "            if self.hijos[1] is None :\n",
      "                return len(self.matrices)\n",
      "            else:\n",
      "                return len(self.matrices) + self.hijos[1].numTetrahedrons()\n",
      "        else:\n",
      "            if self.hijos[1] is None :\n",
      "                return len(self.matrices) + self.hijos[0].numTetrahedrons()\n",
      "            else:\n",
      "                return len(self.matrices) + self.hijos[1].numTetrahedrons() + self.hijos[0].numTetrahedrons()        \n",
      "\n",
      "    "
     ],
     "language": "python",
     "metadata": {},
     "outputs": [],
     "prompt_number": 15
    },
    {
     "cell_type": "code",
     "collapsed": false,
     "input": [
      "# Crea un arbol binario de orden n\n",
      "def binary_Tree(n, subtree = None):\n",
      "    if n == 0:\n",
      "        return subtree\n",
      "    n = n-1\n",
      "    if subtree is None:\n",
      "        return binary_Tree(n,Nodo())\n",
      "    else:\n",
      "        subtree2 = deepcopy(subtree)\n",
      "        subtree.change_r(0,defa/2)\n",
      "        subtree2.change_r(defa/2,defa)\n",
      "        ntree = Nodo()\n",
      "        ntree.add_Left(subtree)\n",
      "        ntree.add_Right(subtree2)\n",
      "        return binary_Tree(n,ntree)\n",
      "tree = binary_Tree(3)"
     ],
     "language": "python",
     "metadata": {},
     "outputs": [],
     "prompt_number": 16
    },
    {
     "cell_type": "code",
     "collapsed": false,
     "input": [
      "print tree.numTetrahedrons()\n",
      "print tree.__del__()\n",
      "print tree"
     ],
     "language": "python",
     "metadata": {},
     "outputs": [
      {
       "output_type": "stream",
       "stream": "stdout",
       "text": [
        "0\n",
        "None\n",
        "<__main__.Nodo instance at 0x7f99a2c0ccf8>\n"
       ]
      }
     ],
     "prompt_number": 17
    },
    {
     "cell_type": "code",
     "collapsed": false,
     "input": [
      "# Crea el array de tetraedros: n1-n2-n3-n4 \n",
      "# El estado final de la simulaci\u00f3n (ordenado respecto a los N)\n",
      "def mk_Thdrons(L, numPart):\n",
      "    thdrons = []\n",
      "    # Crea una lista de tetraedros\n",
      "    for i in range(numPart/(L**3)):\n",
      "        n0 = i*(L**3)\n",
      "        for x in range(L-1):\n",
      "            for y in range(L-1):\n",
      "                for z in range(L-1):\n",
      "                    # El punto que definir\u00e1 4 tetraedros\n",
      "                    point = n0 + getN(x,y,z,L)\n",
      "                    # Los tetraedros\n",
      "                    thdrons.append([point,point+L,point+L+(L**2),point+(L**2)+L+1])\n",
      "                    thdrons.append([point,point+L,point+L+   1  ,point+(L**2)+L+1])\n",
      "                    thdrons.append([point,point+(L**2),point+(L**2)+L,point+(L**2)+L+1])\n",
      "                    thdrons.append([point,point+(L**2),point+(L**2)+1,point+(L**2)+L+1])\n",
      "                    thdrons.append([point,point+1,point+1+(L**2),point+(L**2)+L+1])\n",
      "                    thdrons.append([point,point+1,point+1+   L  ,point+(L**2)+L+1])\n",
      "    thdrons = np.array(thdrons) \n",
      "    return thdrons\n",
      "\n",
      "# Clasifica los tetraedros en el arbol\n",
      "# fstate : El estado final de la simulacion ordenada por N\n",
      "def mk_Tree_Thdrons(fstate, thdrons):\n",
      "    # Crea el arbol de tetraedros: x -> y -> z\n",
      "    arbol = binary_Tree(4)\n",
      "    tam = len(thdrons)\n",
      "    for n in range(tam):\n",
      "        if((n*100/tam)%100 == 0):\n",
      "            print n*100/tam\n",
      "        th = thdrons[n]\n",
      "        vec = fstate[th[0]]\n",
      "        a = fstate[th[3]]\n",
      "        b = fstate[th[2]]\n",
      "        c = fstate[th[1]]\n",
      "        # El volumen de cada tetraedro\n",
      "        v = np.dot(np.cross(a-vec,b-vec),c-vec)/2\n",
      "        if v != 0:\n",
      "            # La matriz de cambio de base de cada tetraedro\n",
      "            m = np.linalg.inv(np.array([a-vec,b-vec,c-vec]).T)\n",
      "            # Clasifica los tetraedros\n",
      "            boo = True\n",
      "            # Nodo del arbol donde queda clasificado el tetraedro\n",
      "            arbolito = arbol\n",
      "            # El orden del arbol actual: arbolito\n",
      "            i = 0\n",
      "            while boo:\n",
      "                temp = arbolito.get_Left()\n",
      "                tem = arbolito.get_Right()\n",
      "                if temp is not None:\n",
      "                    if temp.isIn(a[i]) and temp.isIn(b[i]) and temp.isIn(c[i]) and temp.isIn(vec[i]):\n",
      "                        arbolito = temp\n",
      "                    elif tem.isIn(a[i]) and tem.isIn(b[i]) and tem.isIn(c[i]) and tem.isIn(vec[i]):\n",
      "                        arbolito = tem\n",
      "                    else:\n",
      "                        boo = False\n",
      "                else:\n",
      "                    boo = False\n",
      "                i += 1\n",
      "            arbolito.add_Tetrahedron(m,v,vec)\n",
      "        \n",
      "    return arbol\n",
      "            \n",
      "# Obtiene el ID de una part\u00edcula dada su posici\u00f3n\n",
      "def getN(x,y,z,L):\n",
      "    return x*(L**2) + y*L + z"
     ],
     "language": "python",
     "metadata": {},
     "outputs": [],
     "prompt_number": 26
    },
    {
     "cell_type": "code",
     "collapsed": false,
     "input": [
      "# M\u00e9todo para calcular la densidad en la lista de posiciones dadas\n",
      "# pos: El arreglo de posiciones donde se quiere conocer la densidad\n",
      "# thdrons: El conjunto de tetraedros\n",
      "# masses: El conjunto de masas de los correspondientes tetraedros\n",
      "\n",
      "def getDensity(pos, arbol, masses):\n",
      "    density = np.zeros(len(pos))\n",
      "    for i in range(len(pos)):\n",
      "        arbol_i = arbol.get_Left()\n",
      "        arbol_ii = arbol_i.get_Left()\n",
      "        arbol_iii = arbol_ii.get_Left()\n",
      "        arbol_d = arbol.get_Right()\n",
      "        arbol_dd = arbol_d.get_Right()\n",
      "        arbol_ddd = arbol_dd.get_Right()\n",
      "        # True si esta en la parte izquierda x\n",
      "        ix = arbol_i.isIn(pos[i][0])\n",
      "        # True si esta en la parte izquierda y\n",
      "        iy = arbol_ii.isIn(pos[i][1])\n",
      "        # True si esta en la parte izquierda z\n",
      "        iz = arbol_iii.isIn(pos[i][2])\n",
      "        # Arbol donde queda el punto\n",
      "        arbolito = None\n",
      "        # Clasifica los tetraedros\n",
      "        if ix:\n",
      "            # Se encuentra en la parte Izquierda x\n",
      "            if iy:\n",
      "                # Se encuentra en la parte Izquierda x Izquierda y\n",
      "                if iz:\n",
      "                    # Se encuentra en la parte Izquierda x Izquierda y Izquierda z\n",
      "                    arbolito = arbol_iii\n",
      "                else:\n",
      "                    # Se encuentra en la parte Izquierda x Izquierda y Derecha z\n",
      "                    arbolito = arbol_ii.get_Right()\n",
      "              \n",
      "            else:\n",
      "                # Se encuentra en la parte Izquierda x Derecha y\n",
      "                if iz:\n",
      "                    # Se encuentra en la parte Izquierda x Derecha y Izquierda z\n",
      "                    arbolito = arbol_i.get_Right().get_Left()\n",
      "                else:\n",
      "                    # Se encuentra en la parte Izquierda x Derecha y Derecha z\n",
      "                    arbolito = arbol_i.get_Right().get_Right()\n",
      "        else:\n",
      "            # Se encuentra en la parte Derecha x\n",
      "            if iy:\n",
      "                # Se encuentra en la parte Derecha x Izquierda y\n",
      "                if iz:\n",
      "                    # Se encuentra en la parte Derecha x Izquierda y Izquierda z\n",
      "                    arbolito = arbolito = arbol_d.get_Left().get_Left()\n",
      "                else:\n",
      "                    # Se encuentra en la parte Derecha x Izquierda y Derecha z\n",
      "                    arbolito = arbol_d.get_Left().get_Right()\n",
      "            else:\n",
      "                # Se encuentra en la parte Derecha x Derecha y\n",
      "                if iz:\n",
      "                    # Se encuentra en la parte Derecha x Derecha y Izquierda z\n",
      "                    arbolito = arbol_dd.get_Left()\n",
      "                else:\n",
      "                    # Se encuentra en la parte Derecha x Derecha y Derecha z\n",
      "                    arbolito = arbol_ddd\n",
      "                    \n",
      "        thdrons = arbolito.get_Tetrahedrons()\n",
      "        for k in range(len(thdrons[0])):\n",
      "            if inside(thdrons[0][k], pos[i]-thdrons[2][k]):\n",
      "                desnsity[i] += arbolito.get_m()/np.abs(thdrons[1][k])        \n",
      "    return density\n",
      "\n",
      "def inside(m,d):\n",
      "    # El vector en la nueva base\n",
      "    dp = np.dot(m,d)\n",
      "    if (dp[0] >= 0) and (dp[1] >= 0) and (dp[2] >= 0) and (dp[0]+dp[1]+dp[2] <= 1):\n",
      "        return True\n",
      "    else:\n",
      "        return False"
     ],
     "language": "python",
     "metadata": {},
     "outputs": [],
     "prompt_number": 6
    },
    {
     "cell_type": "heading",
     "level": 1,
     "metadata": {},
     "source": [
      "Prueba num\u00e9rica del m\u00e9todo"
     ]
    },
    {
     "cell_type": "code",
     "collapsed": false,
     "input": [
      "# Obtiene el estado inicial de la simulaci\u00f3n para analizarla\n",
      "start_time = time.time()\n",
      "fstate = loadtxt(\"ics.data\")\n",
      "print(time.time() - start_time)"
     ],
     "language": "python",
     "metadata": {},
     "outputs": [
      {
       "output_type": "stream",
       "stream": "stdout",
       "text": [
        "21.6038639545\n"
       ]
      }
     ],
     "prompt_number": 7
    },
    {
     "cell_type": "code",
     "collapsed": false,
     "input": [
      "# Obtiene solo las posiciones\n",
      "fstate = fstate.T[1:4].T"
     ],
     "language": "python",
     "metadata": {},
     "outputs": [],
     "prompt_number": 12
    },
    {
     "cell_type": "code",
     "collapsed": false,
     "input": [
      "# Crea los tetraedros\n",
      "start_time = time.time()\n",
      "result = mk_Thdrons(16, 128**3)\n",
      "print(time.time() - start_time)\n"
     ],
     "language": "python",
     "metadata": {},
     "outputs": [
      {
       "output_type": "stream",
       "stream": "stdout",
       "text": [
        "0\n"
       ]
      },
      {
       "ename": "LinAlgError",
       "evalue": "Singular matrix",
       "output_type": "pyerr",
       "traceback": [
        "\u001b[1;31m---------------------------------------------------------------------------\u001b[0m\n\u001b[1;31mLinAlgError\u001b[0m                               Traceback (most recent call last)",
        "\u001b[1;32m<ipython-input-13-f86fc89e4bb0>\u001b[0m in \u001b[0;36m<module>\u001b[1;34m()\u001b[0m\n\u001b[0;32m      1\u001b[0m \u001b[1;31m# Crea los tetraedros\u001b[0m\u001b[1;33m\u001b[0m\u001b[1;33m\u001b[0m\u001b[0m\n\u001b[0;32m      2\u001b[0m \u001b[0mstart_time\u001b[0m \u001b[1;33m=\u001b[0m \u001b[0mtime\u001b[0m\u001b[1;33m.\u001b[0m\u001b[0mtime\u001b[0m\u001b[1;33m(\u001b[0m\u001b[1;33m)\u001b[0m\u001b[1;33m\u001b[0m\u001b[0m\n\u001b[1;32m----> 3\u001b[1;33m \u001b[0mresult\u001b[0m \u001b[1;33m=\u001b[0m \u001b[0mmk_Thdrons\u001b[0m\u001b[1;33m(\u001b[0m\u001b[1;36m16\u001b[0m\u001b[1;33m,\u001b[0m \u001b[1;36m128\u001b[0m\u001b[1;33m**\u001b[0m\u001b[1;36m3\u001b[0m\u001b[1;33m)\u001b[0m\u001b[1;33m\u001b[0m\u001b[0m\n\u001b[0m\u001b[0;32m      4\u001b[0m \u001b[1;32mprint\u001b[0m\u001b[1;33m(\u001b[0m\u001b[0mtime\u001b[0m\u001b[1;33m.\u001b[0m\u001b[0mtime\u001b[0m\u001b[1;33m(\u001b[0m\u001b[1;33m)\u001b[0m \u001b[1;33m-\u001b[0m \u001b[0mstart_time\u001b[0m\u001b[1;33m)\u001b[0m\u001b[1;33m\u001b[0m\u001b[0m\n",
        "\u001b[1;32m<ipython-input-5-52b5ab6714ee>\u001b[0m in \u001b[0;36mmk_Thdrons\u001b[1;34m(L, numPart)\u001b[0m\n\u001b[0;32m     33\u001b[0m         \u001b[0mc\u001b[0m \u001b[1;33m=\u001b[0m \u001b[0mfstate\u001b[0m\u001b[1;33m[\u001b[0m\u001b[0mth\u001b[0m\u001b[1;33m[\u001b[0m\u001b[1;36m1\u001b[0m\u001b[1;33m]\u001b[0m\u001b[1;33m]\u001b[0m \u001b[1;33m-\u001b[0m \u001b[0mvec\u001b[0m\u001b[1;33m\u001b[0m\u001b[0m\n\u001b[0;32m     34\u001b[0m         \u001b[1;31m# La matriz de cambio de base de cada tetraedro\u001b[0m\u001b[1;33m\u001b[0m\u001b[1;33m\u001b[0m\u001b[0m\n\u001b[1;32m---> 35\u001b[1;33m         \u001b[0mm\u001b[0m \u001b[1;33m=\u001b[0m \u001b[0mnp\u001b[0m\u001b[1;33m.\u001b[0m\u001b[0mlinalg\u001b[0m\u001b[1;33m.\u001b[0m\u001b[0minv\u001b[0m\u001b[1;33m(\u001b[0m\u001b[0mnp\u001b[0m\u001b[1;33m.\u001b[0m\u001b[0marray\u001b[0m\u001b[1;33m(\u001b[0m\u001b[1;33m[\u001b[0m\u001b[0ma\u001b[0m\u001b[1;33m,\u001b[0m\u001b[0mb\u001b[0m\u001b[1;33m,\u001b[0m\u001b[0mc\u001b[0m\u001b[1;33m]\u001b[0m\u001b[1;33m)\u001b[0m\u001b[1;33m.\u001b[0m\u001b[0mT\u001b[0m\u001b[1;33m)\u001b[0m\u001b[1;33m\u001b[0m\u001b[0m\n\u001b[0m\u001b[0;32m     36\u001b[0m         \u001b[1;31m# El volumen de cada tetraedro\u001b[0m\u001b[1;33m\u001b[0m\u001b[1;33m\u001b[0m\u001b[0m\n\u001b[0;32m     37\u001b[0m         \u001b[0mv\u001b[0m \u001b[1;33m=\u001b[0m \u001b[0mnp\u001b[0m\u001b[1;33m.\u001b[0m\u001b[0mdot\u001b[0m\u001b[1;33m(\u001b[0m\u001b[0mnp\u001b[0m\u001b[1;33m.\u001b[0m\u001b[0mcross\u001b[0m\u001b[1;33m(\u001b[0m\u001b[0ma\u001b[0m\u001b[1;33m,\u001b[0m\u001b[0mb\u001b[0m\u001b[1;33m)\u001b[0m\u001b[1;33m,\u001b[0m\u001b[0mc\u001b[0m\u001b[1;33m)\u001b[0m\u001b[1;33m/\u001b[0m\u001b[1;36m2\u001b[0m\u001b[1;33m\u001b[0m\u001b[0m\n",
        "\u001b[1;32m/usr/lib/python2.7/dist-packages/numpy/linalg/linalg.pyc\u001b[0m in \u001b[0;36minv\u001b[1;34m(a)\u001b[0m\n\u001b[0;32m    518\u001b[0m     \u001b[0msignature\u001b[0m \u001b[1;33m=\u001b[0m \u001b[1;34m'D->D'\u001b[0m \u001b[1;32mif\u001b[0m \u001b[0misComplexType\u001b[0m\u001b[1;33m(\u001b[0m\u001b[0mt\u001b[0m\u001b[1;33m)\u001b[0m \u001b[1;32melse\u001b[0m \u001b[1;34m'd->d'\u001b[0m\u001b[1;33m\u001b[0m\u001b[0m\n\u001b[0;32m    519\u001b[0m     \u001b[0mextobj\u001b[0m \u001b[1;33m=\u001b[0m \u001b[0mget_linalg_error_extobj\u001b[0m\u001b[1;33m(\u001b[0m\u001b[0m_raise_linalgerror_singular\u001b[0m\u001b[1;33m)\u001b[0m\u001b[1;33m\u001b[0m\u001b[0m\n\u001b[1;32m--> 520\u001b[1;33m     \u001b[0mainv\u001b[0m \u001b[1;33m=\u001b[0m \u001b[0m_umath_linalg\u001b[0m\u001b[1;33m.\u001b[0m\u001b[0minv\u001b[0m\u001b[1;33m(\u001b[0m\u001b[0ma\u001b[0m\u001b[1;33m,\u001b[0m \u001b[0msignature\u001b[0m\u001b[1;33m=\u001b[0m\u001b[0msignature\u001b[0m\u001b[1;33m,\u001b[0m \u001b[0mextobj\u001b[0m\u001b[1;33m=\u001b[0m\u001b[0mextobj\u001b[0m\u001b[1;33m)\u001b[0m\u001b[1;33m\u001b[0m\u001b[0m\n\u001b[0m\u001b[0;32m    521\u001b[0m     \u001b[1;32mreturn\u001b[0m \u001b[0mwrap\u001b[0m\u001b[1;33m(\u001b[0m\u001b[0mainv\u001b[0m\u001b[1;33m.\u001b[0m\u001b[0mastype\u001b[0m\u001b[1;33m(\u001b[0m\u001b[0mresult_t\u001b[0m\u001b[1;33m)\u001b[0m\u001b[1;33m)\u001b[0m\u001b[1;33m\u001b[0m\u001b[0m\n\u001b[0;32m    522\u001b[0m \u001b[1;33m\u001b[0m\u001b[0m\n",
        "\u001b[1;32m/usr/lib/python2.7/dist-packages/numpy/linalg/linalg.pyc\u001b[0m in \u001b[0;36m_raise_linalgerror_singular\u001b[1;34m(err, flag)\u001b[0m\n\u001b[0;32m     88\u001b[0m \u001b[1;33m\u001b[0m\u001b[0m\n\u001b[0;32m     89\u001b[0m \u001b[1;32mdef\u001b[0m \u001b[0m_raise_linalgerror_singular\u001b[0m\u001b[1;33m(\u001b[0m\u001b[0merr\u001b[0m\u001b[1;33m,\u001b[0m \u001b[0mflag\u001b[0m\u001b[1;33m)\u001b[0m\u001b[1;33m:\u001b[0m\u001b[1;33m\u001b[0m\u001b[0m\n\u001b[1;32m---> 90\u001b[1;33m     \u001b[1;32mraise\u001b[0m \u001b[0mLinAlgError\u001b[0m\u001b[1;33m(\u001b[0m\u001b[1;34m\"Singular matrix\"\u001b[0m\u001b[1;33m)\u001b[0m\u001b[1;33m\u001b[0m\u001b[0m\n\u001b[0m\u001b[0;32m     91\u001b[0m \u001b[1;33m\u001b[0m\u001b[0m\n\u001b[0;32m     92\u001b[0m \u001b[1;32mdef\u001b[0m \u001b[0m_raise_linalgerror_nonposdef\u001b[0m\u001b[1;33m(\u001b[0m\u001b[0merr\u001b[0m\u001b[1;33m,\u001b[0m \u001b[0mflag\u001b[0m\u001b[1;33m)\u001b[0m\u001b[1;33m:\u001b[0m\u001b[1;33m\u001b[0m\u001b[0m\n",
        "\u001b[1;31mLinAlgError\u001b[0m: Singular matrix"
       ]
      }
     ],
     "prompt_number": 13
    },
    {
     "cell_type": "code",
     "collapsed": false,
     "input": [
      "print result[0]"
     ],
     "language": "python",
     "metadata": {},
     "outputs": [
      {
       "output_type": "stream",
       "stream": "stdout",
       "text": [
        "[[  0  10 110 111]\n",
        " [  0  10  11 111]\n",
        " [  0 100 110 111]\n",
        " ..., \n",
        " [888 988 989 999]\n",
        " [888 889 989 999]\n",
        " [888 889 899 999]]\n"
       ]
      }
     ],
     "prompt_number": 13
    },
    {
     "cell_type": "code",
     "collapsed": false,
     "input": [
      "# Calcular las densidades en puntos uniformemente distribuidos\n",
      "x = linspace(0,1,1)\n",
      "y = linspace(0,1,1)\n",
      "z = np.random.random()\n",
      "matrix = []\n",
      "for i in range(1):\n",
      "    fila = []\n",
      "    for j in range(1):\n",
      "        fila.append(np.array([x[i],y[j],z]))\n",
      "    matrix.append(np.array(fila))\n",
      "matrix = np.array(matrix)\n",
      "    "
     ],
     "language": "python",
     "metadata": {},
     "outputs": [],
     "prompt_number": 14
    },
    {
     "cell_type": "code",
     "collapsed": false,
     "input": [
      "# Calcula las densidades\n",
      "start_time = time.time()\n",
      "im = getDensity(matrix[0], result[0], result[1], points)\n",
      "print(time.time() - start_time)"
     ],
     "language": "python",
     "metadata": {},
     "outputs": [
      {
       "output_type": "stream",
       "stream": "stdout",
       "text": [
        "0.548588037491\n"
       ]
      }
     ],
     "prompt_number": 16
    },
    {
     "cell_type": "code",
     "collapsed": false,
     "input": [],
     "language": "python",
     "metadata": {},
     "outputs": []
    }
   ],
   "metadata": {}
  }
 ]
}