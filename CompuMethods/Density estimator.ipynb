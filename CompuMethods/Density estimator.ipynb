{
 "metadata": {
  "name": "",
  "signature": "sha256:3115507eba3e0e1795e9993d543703a2028712071c9a4646e3ea0ade1e9ea220"
 },
 "nbformat": 3,
 "nbformat_minor": 0,
 "worksheets": [
  {
   "cells": [
    {
     "cell_type": "code",
     "collapsed": false,
     "input": [
      "%pylab inline\n",
      "from copy import deepcopy\n",
      "import time"
     ],
     "language": "python",
     "metadata": {},
     "outputs": [
      {
       "output_type": "stream",
       "stream": "stdout",
       "text": [
        "Populating the interactive namespace from numpy and matplotlib\n"
       ]
      }
     ],
     "prompt_number": 103
    },
    {
     "cell_type": "code",
     "collapsed": false,
     "input": [
      "# Clase nodo para el arbol de tetraedros\n",
      "# Longitud de la simulacion l = \n",
      "defa = 150000\n",
      "class Nodo:\n",
      "    'Modela los nodos del arbol de tetraedros'\n",
      "    # Guarda las matrices de los tetraedros\n",
      "    # matrices = []\n",
      "    # Guarda los volumenes\n",
      "    # volumes = []\n",
      "    # Guarda el intervalo\n",
      "    # r = np.array([0,defa])\n",
      "    # Guarda los hijos: izquierdo - derecho en orden\n",
      "    # hijos = [None, None]\n",
      "    # Constructor de la clase\n",
      "    # Guarda el vector de referencia\n",
      "    def __init__(self):\n",
      "        # Rango del espacio\n",
      "        self.r = np.array([0,defa])\n",
      "        self.matrices = []\n",
      "        self.volumes = []\n",
      "        self.hijos = [None,None]\n",
      "        self.vec = []\n",
      "        self.m = 1000.0\n",
      "    # Borra la clase\n",
      "    def __del__(self):\n",
      "        class_name = self.__class__.__name__\n",
      "        #print class_name, \"destroyed\" \n",
      "    # A\u00f1ade un hijo izquierdo\n",
      "    def add_Left(self,left):\n",
      "        self.hijos[0] = left\n",
      "    # A\u00f1ade un hijo derecho\n",
      "    def add_Right(self,right):\n",
      "        self.hijos[1] = right\n",
      "    # A\u00f1adir tetraedro\n",
      "    def add_Tetrahedron(self, matrix=None, volume=None, vec=None):\n",
      "        self.matrices.append(matrix)\n",
      "        self.volumes.append(volume)\n",
      "        self.vec.append(vec)\n",
      "    # Cambia el intervalo\n",
      "    def change_r(self,ini,fin):\n",
      "        self.r[0] = ini\n",
      "        self.r[1] = fin\n",
      "    # Retorna el intervalo\n",
      "    def get_vec(self):\n",
      "        return self.vec\n",
      "    # Retorna el hijo izquierdo\n",
      "    def get_Left(self):\n",
      "        return self.hijos[0]\n",
      "    # Retorna el hijo derecho\n",
      "    def get_Right(self):\n",
      "        return self.hijos[1]\n",
      "    # Retorna el array de volumenes y de matrices\n",
      "    def get_Tetrahedrons(self):\n",
      "        return self.matrices,self.volumes,self.vec\n",
      "    # Define si un punto est\u00e1 en el espacio definido \n",
      "    def isIn(self, d):\n",
      "        if (self.r[0] <= d) and (self.r[1] >= d) :\n",
      "            return True\n",
      "        else:\n",
      "            return False  \n",
      "    # Da el orden del arbol\n",
      "    def order(self):\n",
      "        if(self.hijos[0] is None):\n",
      "            return 1\n",
      "        else:\n",
      "            return 1+ self.hijos[0].order()\n",
      "    # Retorna el intervalo del esapcio \n",
      "    def get_r(self):\n",
      "        return self.r\n",
      "    # Retorna el intervalo del esapcio \n",
      "    def get_m(self):\n",
      "        return self.m\n",
      "    # Retorna el n\u00famero total de tetraedros\n",
      "    def numTetrahedrons(self):\n",
      "        if self.hijos[0] is None :\n",
      "            if self.hijos[1] is None :\n",
      "                return len(self.matrices)\n",
      "            else:\n",
      "                return len(self.matrices) + self.hijos[1].numTetrahedrons()\n",
      "        else:\n",
      "            if self.hijos[1] is None :\n",
      "                return len(self.matrices) + self.hijos[0].numTetrahedrons()\n",
      "            else:\n",
      "                return len(self.matrices) + self.hijos[1].numTetrahedrons() + self.hijos[0].numTetrahedrons()        \n",
      "\n",
      "    "
     ],
     "language": "python",
     "metadata": {},
     "outputs": [],
     "prompt_number": 104
    },
    {
     "cell_type": "code",
     "collapsed": false,
     "input": [
      "# Crea un arbol binario de orden n\n",
      "def binary_Tree(n, subtree = None):\n",
      "    if n == 0:\n",
      "        return subtree\n",
      "    n = n-1\n",
      "    if subtree is None:\n",
      "        return binary_Tree(n,Nodo())\n",
      "    else:\n",
      "        subtree2 = deepcopy(subtree)\n",
      "        subtree.change_r(0,defa/2)\n",
      "        subtree2.change_r(defa/2,defa)\n",
      "        ntree = Nodo()\n",
      "        ntree.add_Left(subtree)\n",
      "        ntree.add_Right(subtree2)\n",
      "        return binary_Tree(n,ntree)\n",
      "tree = binary_Tree(3)"
     ],
     "language": "python",
     "metadata": {},
     "outputs": [],
     "prompt_number": 105
    },
    {
     "cell_type": "code",
     "collapsed": false,
     "input": [
      "print tree.numTetrahedrons()\n",
      "print tree.__del__()\n",
      "print tree"
     ],
     "language": "python",
     "metadata": {},
     "outputs": [
      {
       "output_type": "stream",
       "stream": "stdout",
       "text": [
        "0\n",
        "None\n",
        "<__main__.Nodo instance at 0x7f8ac14885a8>\n"
       ]
      }
     ],
     "prompt_number": 106
    },
    {
     "cell_type": "code",
     "collapsed": false,
     "input": [
      "# Crea el array de tetraedros: n1-n2-n3-n4 \n",
      "# El estado final de la simulaci\u00f3n (ordenado respecto a los N)\n",
      "def mk_Thdrons(L, numPart):\n",
      "    thdrons = []\n",
      "    # Crea una lista de tetraedros\n",
      "    for i in range(numPart/(L**3)):\n",
      "        n0 = i*(L**3)\n",
      "        for x in range(L-1):\n",
      "            for y in range(L-1):\n",
      "                for z in range(L-1):\n",
      "                    # El punto que definir\u00e1 4 tetraedros\n",
      "                    point = n0 + getN(x,y,z,L)\n",
      "                    # Los tetraedros\n",
      "                    thdrons.append([point,point+L,point+L+(L**2),point+(L**2)+L+1])\n",
      "                    thdrons.append([point,point+L,point+L+   1  ,point+(L**2)+L+1])\n",
      "                    thdrons.append([point,point+(L**2),point+(L**2)+L,point+(L**2)+L+1])\n",
      "                    thdrons.append([point,point+(L**2),point+(L**2)+1,point+(L**2)+L+1])\n",
      "                    thdrons.append([point,point+1,point+1+(L**2),point+(L**2)+L+1])\n",
      "                    thdrons.append([point,point+1,point+1+   L  ,point+(L**2)+L+1])\n",
      "    thdrons = np.array(thdrons) \n",
      "    return thdrons\n",
      "\n",
      "# Clasifica los tetraedros en el arbol\n",
      "# fstate : El estado final de la simulacion ordenada por N\n",
      "def mk_Tree_Thdrons(fstate, thdrons):\n",
      "    # Crea el arbol de tetraedros: x -> y -> z\n",
      "    arbol = binary_Tree(4)\n",
      "    tam = len(thdrons)\n",
      "    for n in range(tam):\n",
      "        if((n*100.0/tam)%10 == 0):\n",
      "            print n*100/tam\n",
      "        th = thdrons[n]\n",
      "        vec = fstate[th[0]]\n",
      "        a = fstate[th[3]]\n",
      "        b = fstate[th[2]]\n",
      "        c = fstate[th[1]]\n",
      "        # El volumen de cada tetraedro\n",
      "        v = np.dot(np.cross(a-vec,b-vec),c-vec)/2\n",
      "        if v != 0:\n",
      "            # La matriz de cambio de base de cada tetraedro\n",
      "            m = np.linalg.inv(np.array([a-vec,b-vec,c-vec]).T)\n",
      "            # Clasifica los tetraedros\n",
      "            boo = True\n",
      "            # Nodo del arbol donde queda clasificado el tetraedro\n",
      "            arbolito = arbol\n",
      "            # El orden del arbol actual: arbolito\n",
      "            i = 0\n",
      "            while boo:\n",
      "                temp = arbolito.get_Left()\n",
      "                tem = arbolito.get_Right()\n",
      "                if temp is not None:\n",
      "                    if temp.isIn(a[i]) and temp.isIn(b[i]) and temp.isIn(c[i]) and temp.isIn(vec[i]):\n",
      "                        arbolito = temp\n",
      "                    elif tem.isIn(a[i]) and tem.isIn(b[i]) and tem.isIn(c[i]) and tem.isIn(vec[i]):\n",
      "                        arbolito = tem\n",
      "                    else:\n",
      "                        boo = False\n",
      "                else:\n",
      "                    boo = False\n",
      "                i += 1\n",
      "            arbolito.add_Tetrahedron(m,v,vec)\n",
      "            \n",
      "    return arbol\n",
      "            \n",
      "# Obtiene el ID de una part\u00edcula dada su posici\u00f3n\n",
      "def getN(x,y,z,L):\n",
      "    return x*(L**2) + y*L + z"
     ],
     "language": "python",
     "metadata": {},
     "outputs": [],
     "prompt_number": 107
    },
    {
     "cell_type": "code",
     "collapsed": false,
     "input": [
      "# M\u00e9todo para calcular la densidad en la lista de posiciones dadas\n",
      "# pos: El arreglo de posiciones donde se quiere conocer la densidad\n",
      "# thdrons: El conjunto de tetraedros\n",
      "# masses: El conjunto de masas de los correspondientes tetraedros\n",
      "\n",
      "def getDensity(pos, arbol):\n",
      "    density = np.zeros(len(pos))\n",
      "    tam = len(pos)\n",
      "    for n in range(tam):\n",
      "        # Marca el progreso\n",
      "        if((n*100.0/tam)%10 == 0):\n",
      "                print n*100/tam\n",
      "        boo = True\n",
      "        # Nodo del arbol donde queda clasificado el tetraedro\n",
      "        arbolito = arbol\n",
      "        # Guarda los tetraedros de los nodos por donde pasa\n",
      "        thdrons = [[],[],[]]\n",
      "        # El orden del arbol actual: arbolito\n",
      "        i = 0\n",
      "        while boo:\n",
      "            thdrons1 = arbolito.get_Tetrahedrons()\n",
      "            thdrons[0] += thdrons1[0]\n",
      "            thdrons[1] += thdrons1[1]\n",
      "            thdrons[2] += thdrons1[2]\n",
      "            temp = arbolito.get_Left()\n",
      "            tem = arbolito.get_Right()\n",
      "            if temp is not None:\n",
      "                if temp.isIn(pos[n][i]):\n",
      "                    arbolito = temp\n",
      "                elif tem.isIn(pos[n][i]):\n",
      "                    arbolito = tem\n",
      "                else:\n",
      "                    boo = False\n",
      "            else:\n",
      "                boo = False\n",
      "            i += 1\n",
      "        # Revisa la inclusion en el conjunto de tetrahedros dado\n",
      "        tam2 = len(thdrons[0])\n",
      "        #print len(thdrons[0]),len(thdrons[1]),len(thdrons[2])\n",
      "        for k in range(tam2):\n",
      "            if inside(thdrons[0][k], pos[n]-thdrons[2][k]):\n",
      "                density[n] += 10000.0/np.abs(thdrons[1][k])        \n",
      "    return density\n",
      "\n",
      "def inside(m,d):\n",
      "    # El vector en la nueva base\n",
      "    dp = np.dot(m,d)\n",
      "    if (dp[0] >= 0) and (dp[1] >= 0) and (dp[2] >= 0) and (dp[0]+dp[1]+dp[2] <= 1):\n",
      "        return True\n",
      "    else:\n",
      "        return False"
     ],
     "language": "python",
     "metadata": {},
     "outputs": [],
     "prompt_number": 108
    },
    {
     "cell_type": "heading",
     "level": 1,
     "metadata": {},
     "source": [
      "\n",
      "Prueba num\u00e9rica del m\u00e9todo"
     ]
    },
    {
     "cell_type": "code",
     "collapsed": false,
     "input": [
      "# Obtiene el estado inicial de la simulaci\u00f3n para analizarla\n",
      "start_time = time.time()\n",
      "fstate = loadtxt(\"ics.data\")\n",
      "print(time.time() - start_time)"
     ],
     "language": "python",
     "metadata": {},
     "outputs": [
      {
       "output_type": "stream",
       "stream": "stdout",
       "text": [
        "10.1008689404\n"
       ]
      }
     ],
     "prompt_number": 109
    },
    {
     "cell_type": "code",
     "collapsed": false,
     "input": [
      "# Obtiene solo las posiciones\n",
      "fstate = fstate.T[2:5].T"
     ],
     "language": "python",
     "metadata": {},
     "outputs": [],
     "prompt_number": 110
    },
    {
     "cell_type": "code",
     "collapsed": false,
     "input": [
      "# Crea los tetraedros\n",
      "start_time = time.time()\n",
      "result = mk_Thdrons(16, 128**3)\n",
      "print(time.time() - start_time)\n"
     ],
     "language": "python",
     "metadata": {},
     "outputs": [
      {
       "output_type": "stream",
       "stream": "stdout",
       "text": [
        "13.2415878773\n"
       ]
      }
     ],
     "prompt_number": 111
    },
    {
     "cell_type": "code",
     "collapsed": false,
     "input": [
      "# Ordena los tetraedros en un arbol\n",
      "start_time = time.time()\n",
      "arbol = mk_Tree_Thdrons(fstate, result)\n",
      "print(time.time() - start_time)\n"
     ],
     "language": "python",
     "metadata": {},
     "outputs": []
    },
    {
     "cell_type": "code",
     "collapsed": false,
     "input": [
      "# Calcula la densidad en un punto\n",
      "start_time = time.time()\n",
      "density = getDensity([[75000,75000,75000]],arbol)\n",
      "print(time.time() - start_time)\n",
      "print density"
     ],
     "language": "python",
     "metadata": {},
     "outputs": []
    },
    {
     "cell_type": "code",
     "collapsed": false,
     "input": [
      "# Calcula la densidad en un punto\n",
      "start_time = time.time()\n",
      "density = getDensity([[200,500,500]],arbol)\n",
      "print(time.time() - start_time)\n",
      "print density"
     ],
     "language": "python",
     "metadata": {},
     "outputs": [
      {
       "output_type": "stream",
       "stream": "stdout",
       "text": [
        "0\n",
        "6.40119600296"
       ]
      },
      {
       "output_type": "stream",
       "stream": "stdout",
       "text": [
        "\n",
        "[ 0.]\n"
       ]
      }
     ],
     "prompt_number": 49
    },
    {
     "cell_type": "heading",
     "level": 2,
     "metadata": {},
     "source": [
      "Histograma 2d con la densidad en el plano xy (profundidad z)"
     ]
    },
    {
     "cell_type": "code",
     "collapsed": false,
     "input": [
      "# Limites de la grilla\n",
      "xmin = amin(fstate.T[0])\n",
      "xmax = amax(fstate.T[0])\n",
      "ymin = amin(fstate.T[1])\n",
      "ymax = amax(fstate.T[1])\n",
      "zmax = amax(fstate.T[2])\n",
      "print zmax\n",
      "\n",
      "# Resolucion del histograma \n",
      "n = 60"
     ],
     "language": "python",
     "metadata": {},
     "outputs": [
      {
       "output_type": "stream",
       "stream": "stdout",
       "text": [
        "149999.984375\n"
       ]
      }
     ],
     "prompt_number": 28
    },
    {
     "cell_type": "code",
     "collapsed": false,
     "input": [
      "# El histograma y los vectores que determinan la grilla\n",
      "histo = np.zeros((n,n,3))\n",
      "vecX = linspace(xmin, xmax, n+1)\n",
      "vecY = linspace(ymin, ymax, n+1)"
     ],
     "language": "python",
     "metadata": {},
     "outputs": [],
     "prompt_number": 19
    },
    {
     "cell_type": "code",
     "collapsed": false,
     "input": [
      "for i in range(n):\n",
      "    for j in range(n):\n",
      "        histo[i][j][0] = vecX[i]\n",
      "        histo[i][j][1] = vecY[j]\n",
      "        histo[i][j][2] = 150000/2\n"
     ],
     "language": "python",
     "metadata": {},
     "outputs": [],
     "prompt_number": 20
    },
    {
     "cell_type": "code",
     "collapsed": false,
     "input": [
      "histo = reshape(histo,(n**2,3))"
     ],
     "language": "python",
     "metadata": {},
     "outputs": [],
     "prompt_number": 21
    },
    {
     "cell_type": "code",
     "collapsed": false,
     "input": [
      "# Calcula la densidad en un punto\n",
      "start_time = time.time()\n",
      "img = getDensity(histo,arbol)\n",
      "print(time.time() - start_time)\n",
      "print density"
     ],
     "language": "python",
     "metadata": {},
     "outputs": [
      {
       "output_type": "stream",
       "stream": "stdout",
       "text": [
        "0\n",
        "10"
       ]
      },
      {
       "output_type": "stream",
       "stream": "stdout",
       "text": [
        "\n",
        "20"
       ]
      },
      {
       "output_type": "stream",
       "stream": "stdout",
       "text": [
        "\n",
        "30"
       ]
      },
      {
       "output_type": "stream",
       "stream": "stdout",
       "text": [
        "\n",
        "40"
       ]
      },
      {
       "output_type": "stream",
       "stream": "stdout",
       "text": [
        "\n",
        "50"
       ]
      },
      {
       "output_type": "stream",
       "stream": "stdout",
       "text": [
        "\n",
        "60"
       ]
      },
      {
       "output_type": "stream",
       "stream": "stdout",
       "text": [
        "\n",
        "70"
       ]
      },
      {
       "output_type": "stream",
       "stream": "stdout",
       "text": [
        "\n",
        "80"
       ]
      },
      {
       "output_type": "stream",
       "stream": "stdout",
       "text": [
        "\n",
        "90"
       ]
      },
      {
       "output_type": "stream",
       "stream": "stdout",
       "text": [
        "\n",
        "11842.1300309"
       ]
      },
      {
       "output_type": "stream",
       "stream": "stdout",
       "text": [
        "\n",
        "[ 0.]\n"
       ]
      }
     ],
     "prompt_number": 22
    },
    {
     "cell_type": "code",
     "collapsed": false,
     "input": [
      "img = reshape(img,(n,n))\n",
      "print amax(img)"
     ],
     "language": "python",
     "metadata": {},
     "outputs": [
      {
       "output_type": "stream",
       "stream": "stdout",
       "text": [
        "0.0\n"
       ]
      }
     ],
     "prompt_number": 31
    },
    {
     "cell_type": "code",
     "collapsed": false,
     "input": [
      "print img"
     ],
     "language": "python",
     "metadata": {},
     "outputs": [
      {
       "output_type": "stream",
       "stream": "stdout",
       "text": [
        "[[ 0.  0.  0. ...,  0.  0.  0.]\n",
        " [ 0.  0.  0. ...,  0.  0.  0.]\n",
        " [ 0.  0.  0. ...,  0.  0.  0.]\n",
        " ..., \n",
        " [ 0.  0.  0. ...,  0.  0.  0.]\n",
        " [ 0.  0.  0. ...,  0.  0.  0.]\n",
        " [ 0.  0.  0. ...,  0.  0.  0.]]\n"
       ]
      }
     ],
     "prompt_number": 24
    },
    {
     "cell_type": "code",
     "collapsed": false,
     "input": [
      "def thdronsInRamas(arbolito):\n",
      "    if(arbolito.get_Left() is None):\n",
      "        return arbolito.numTetrahedrons()\n",
      "    else:\n",
      "        return thdronsInRamas(arbolito.get_Left()) + thdronsInRamas(arbolito.get_Right())\n",
      "    "
     ],
     "language": "python",
     "metadata": {},
     "outputs": [],
     "prompt_number": 34
    },
    {
     "cell_type": "code",
     "collapsed": false,
     "input": [
      "print thdronsInRamas(arbol), len(result)"
     ],
     "language": "python",
     "metadata": {},
     "outputs": [
      {
       "output_type": "stream",
       "stream": "stdout",
       "text": [
        "10357968 10368000\n"
       ]
      }
     ],
     "prompt_number": 55
    },
    {
     "cell_type": "code",
     "collapsed": false,
     "input": [
      "print arbol.numTetrahedrons()/(6*128.0**3)"
     ],
     "language": "python",
     "metadata": {},
     "outputs": [
      {
       "output_type": "stream",
       "stream": "stdout",
       "text": [
        "0.823974609375\n"
       ]
      }
     ],
     "prompt_number": 39
    },
    {
     "cell_type": "code",
     "collapsed": false,
     "input": [
      "1/(150000.0**3)"
     ],
     "language": "python",
     "metadata": {},
     "outputs": [
      {
       "metadata": {},
       "output_type": "pyout",
       "prompt_number": 2,
       "text": [
        "2.962962962962963e-16"
       ]
      }
     ],
     "prompt_number": 2
    },
    {
     "cell_type": "code",
     "collapsed": false,
     "input": [
      "%pylab\n",
      "th = result[8*8*16**3]\n",
      "vec = fstate[th[0]]\n",
      "a = fstate[th[3]] -vec\n",
      "b = fstate[th[2]] -vec\n",
      "c = fstate[th[1]] -vec\n",
      "from mpl_toolkits.mplot3d import Axes3D\n",
      "fig = pylab.figure()\n",
      "ax = Axes3D(fig)\n",
      "#ax.scatter(pointsOut.T[0],pointsOut.T[1],pointsOut.T[2], c = 'r', alpha =0.1)\n",
      "ax.plot([0,a[0]],[0,a[1]],[0,a[2]], c = 'b', linewidth = 2.5)\n",
      "ax.plot([0,b[0]],[0,b[1]],[0,b[2]], c = 'b', linewidth = 2.5)\n",
      "ax.plot([0,c[0]],[0,c[1]],[0,c[2]], c = 'b', linewidth = 2.5)\n",
      "ax.plot([a[0],b[0]],[a[1],b[1]],[a[2],b[2]], c = 'b', linewidth = 2.5)\n",
      "ax.plot([b[0],c[0]],[b[1],c[1]],[b[2],c[2]], c = 'b', linewidth = 2.5)\n",
      "ax.plot([c[0],a[0]],[c[1],a[1]],[c[2],a[2]], c = 'b', linewidth = 2.5)"
     ],
     "language": "python",
     "metadata": {},
     "outputs": [
      {
       "output_type": "stream",
       "stream": "stdout",
       "text": [
        "Using matplotlib backend: TkAgg\n",
        "Populating the interactive namespace from numpy and matplotlib\n"
       ]
      },
      {
       "metadata": {},
       "output_type": "pyout",
       "prompt_number": 71,
       "text": [
        "[<mpl_toolkits.mplot3d.art3d.Line3D at 0x7f8ac1475450>]"
       ]
      }
     ],
     "prompt_number": 71
    },
    {
     "cell_type": "code",
     "collapsed": false,
     "input": [],
     "language": "python",
     "metadata": {},
     "outputs": [],
     "prompt_number": 89
    },
    {
     "cell_type": "code",
     "collapsed": false,
     "input": [
      "6*(1200**3/v)"
     ],
     "language": "python",
     "metadata": {},
     "outputs": [
      {
       "metadata": {},
       "output_type": "pyout",
       "prompt_number": 90,
       "text": [
        "12.365874429568116"
       ]
      }
     ],
     "prompt_number": 90
    },
    {
     "cell_type": "code",
     "collapsed": false,
     "input": [],
     "language": "python",
     "metadata": {},
     "outputs": [],
     "prompt_number": 76
    },
    {
     "cell_type": "code",
     "collapsed": false,
     "input": [],
     "language": "python",
     "metadata": {},
     "outputs": []
    }
   ],
   "metadata": {}
  }
 ]
}